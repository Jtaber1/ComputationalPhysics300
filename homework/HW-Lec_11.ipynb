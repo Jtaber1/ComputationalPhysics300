{
 "cells": [
  {
   "cell_type": "code",
   "execution_count": 2,
   "id": "bed0f1fd",
   "metadata": {},
   "outputs": [],
   "source": [
    "import numpy as np"
   ]
  },
  {
   "cell_type": "markdown",
   "id": "57a5ceff",
   "metadata": {},
   "source": [
    "## Equation of a Circle \n",
    "> $(x-h)^2 + (y-k)^2 = r^2$\n"
   ]
  },
  {
   "cell_type": "code",
   "execution_count": 9,
   "id": "c6903ab5",
   "metadata": {},
   "outputs": [
    {
     "name": "stdout",
     "output_type": "stream",
     "text": [
      "Area between the curves:  0.52\n",
      "N=100 0.07806125799652476\n",
      "N=1000 0.029690476587619814\n",
      "N=10000 0.00920202151703635\n",
      "N=100000 0.0028915760339302855\n"
     ]
    }
   ],
   "source": [
    "# Monte Carlo function\n",
    "def MC(N):\n",
    "    count = 0\n",
    "    for i in range(N):\n",
    "        x = 2*np.random.rand()\n",
    "        y = 2*np.random.rand()\n",
    "        y1 = np.sqrt(1-(x-1)**2)\n",
    "        y2 = 2-np.sqrt(4-x**2)\n",
    "        if (y<y1) and (y>y2):\n",
    "            count += 1\n",
    "            \n",
    "    I = 2*count/N\n",
    "    return I\n",
    "\n",
    "print('Area between the curves: ', MC(100))\n",
    "\n",
    "#Standard Deviation function\n",
    "def std(N):\n",
    "    MC_values = []\n",
    "    \n",
    "    for i in range(0,100):\n",
    "        MC_values.append(MC(N))\n",
    "        \n",
    "    return np.std(MC_values)\n",
    "\n",
    "print('N=100', std(100))\n",
    "print('N=1000', std(1000))\n",
    "print('N=10000', std(10000))\n",
    "print('N=100000', std(100000))"
   ]
  }
 ],
 "metadata": {
  "kernelspec": {
   "display_name": "Python 3 (ipykernel)",
   "language": "python",
   "name": "python3"
  },
  "language_info": {
   "codemirror_mode": {
    "name": "ipython",
    "version": 3
   },
   "file_extension": ".py",
   "mimetype": "text/x-python",
   "name": "python",
   "nbconvert_exporter": "python",
   "pygments_lexer": "ipython3",
   "version": "3.9.2"
  }
 },
 "nbformat": 4,
 "nbformat_minor": 5
}
