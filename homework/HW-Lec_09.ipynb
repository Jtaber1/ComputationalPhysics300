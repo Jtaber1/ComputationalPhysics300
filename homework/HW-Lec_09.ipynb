{
 "cells": [
  {
   "cell_type": "code",
   "execution_count": 2,
   "id": "18e3a1a5",
   "metadata": {},
   "outputs": [],
   "source": [
    "import numpy as np\n",
    "import matplotlib.pylot as plt"
   ]
  },
  {
   "cell_type": "code",
   "execution_count": null,
   "id": "c9773a9c",
   "metadata": {},
   "outputs": [],
   "source": [
    "img = imread(\"circular.jpeg\", 0)\n",
    "plt.imshow(img, \"gray\")"
   ]
  },
  {
   "cell_type": "code",
   "execution_count": null,
   "id": "e8edde22",
   "metadata": {},
   "outputs": [],
   "source": [
    "# Fourier transform using fast fourier transform in 2D\n",
    "img_fft = np.fft.fft2(img)\n",
    "plt.imshow(img_fft, \"gray\")"
   ]
  },
  {
   "cell_type": "code",
   "execution_count": null,
   "id": "a262a29a",
   "metadata": {},
   "outputs": [],
   "source": [
    "# Compress the image by applying a low pass filter \n"
   ]
  },
  {
   "cell_type": "code",
   "execution_count": null,
   "id": "1af7ea88",
   "metadata": {},
   "outputs": [],
   "source": [
    "# Recover the image using the inverse fast fourier transform in 2D\n",
    "img_ifft = np.ifft.ifft2(img_fft)\n",
    "plt.imshow(img_ifft)"
   ]
  }
 ],
 "metadata": {
  "kernelspec": {
   "display_name": "Python 3 (ipykernel)",
   "language": "python",
   "name": "python3"
  },
  "language_info": {
   "codemirror_mode": {
    "name": "ipython",
    "version": 3
   },
   "file_extension": ".py",
   "mimetype": "text/x-python",
   "name": "python",
   "nbconvert_exporter": "python",
   "pygments_lexer": "ipython3",
   "version": "3.9.2"
  }
 },
 "nbformat": 4,
 "nbformat_minor": 5
}
