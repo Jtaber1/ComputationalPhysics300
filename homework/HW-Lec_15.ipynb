{
 "cells": [
  {
   "cell_type": "markdown",
   "id": "f9cbac05",
   "metadata": {},
   "source": [
    "a) Write a program that generates and prints out two random numbers between 1 and 6, to simulate the rolling of two dice.\n",
    "\n",
    "b) Modify your program to simulate the rolling of two dice a million times (N0) and count the number of times you get double six (N1). Calculate the probability of finding double six in your simulations (N1/N0)\n",
    "\n",
    "c) Write a code to generate random integers within [-5, 5], find the magic series of {a, c, m} [Don't use the built-in function in numpy]"
   ]
  },
  {
   "cell_type": "code",
   "execution_count": 28,
   "id": "a1dc91ea",
   "metadata": {},
   "outputs": [],
   "source": [
    "import numpy as np\n",
    "\n",
    "def dice(N):\n",
    "    results = []\n",
    "    for i in range(N):\n",
    "        roll = np.random.randint(1,7)\n",
    "        results.append(roll) \n",
    "        \n",
    "    return results"
   ]
  },
  {
   "cell_type": "code",
   "execution_count": 33,
   "id": "168e93c0",
   "metadata": {},
   "outputs": [
    {
     "name": "stdout",
     "output_type": "stream",
     "text": [
      "[2] , [3]\n"
     ]
    }
   ],
   "source": [
    "print(dice(1), ',' , dice(1)) # Rolling two dice once"
   ]
  },
  {
   "cell_type": "code",
   "execution_count": 41,
   "id": "cac38a35",
   "metadata": {},
   "outputs": [
    {
     "name": "stdout",
     "output_type": "stream",
     "text": [
      "27674\n"
     ]
    }
   ],
   "source": [
    "# Double 6's\n",
    "N0=1000000\n",
    "two_dice = np.add(dice(N), dice(N)) # Adds dice values together\n",
    "N1 = np.count_nonzero(two_dice == 12) # Coutns instances of double 6 (6+6=12)\n",
    "print(N1)"
   ]
  },
  {
   "cell_type": "code",
   "execution_count": 42,
   "id": "40ed1d0a",
   "metadata": {},
   "outputs": [
    {
     "name": "stdout",
     "output_type": "stream",
     "text": [
      "0.027674\n"
     ]
    }
   ],
   "source": [
    "print(N1/N0) # Expected probability is 1/6 * 1/6 = 1/36 or 0.028"
   ]
  }
 ],
 "metadata": {
  "kernelspec": {
   "display_name": "Python 3 (ipykernel)",
   "language": "python",
   "name": "python3"
  },
  "language_info": {
   "codemirror_mode": {
    "name": "ipython",
    "version": 3
   },
   "file_extension": ".py",
   "mimetype": "text/x-python",
   "name": "python",
   "nbconvert_exporter": "python",
   "pygments_lexer": "ipython3",
   "version": "3.9.12"
  }
 },
 "nbformat": 4,
 "nbformat_minor": 5
}
