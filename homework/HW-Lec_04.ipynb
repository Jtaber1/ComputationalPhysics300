{
 "cells": [
  {
   "cell_type": "code",
   "execution_count": null,
   "id": "781d951e",
   "metadata": {},
   "outputs": [],
   "source": [
    "'''\n",
    "Homework IV: Mandelbrot Set\n",
    "James Taber\n",
    "PHYS 300\n",
    "'''"
   ]
  },
  {
   "cell_type": "code",
   "execution_count": null,
   "id": "e6d18f2a",
   "metadata": {},
   "outputs": [],
   "source": [
    "'''\n",
    "We will be creating an image of the Mandelbrot set by mapping a color value determined by \n",
    "the Mandlebrot sequence at each gridspace on an NxN grid. The gridspace can be one \n",
    "of two values (colors),\n",
    "white: |z| > 2\n",
    "black: |z| <= 2\n",
    "For this assingment we will make the gridspace = pixel so a 100 x 100 gridspace \n",
    "corresponds to an image with size 100 x 100 pixels.\n",
    "'''"
   ]
  },
  {
   "cell_type": "code",
   "execution_count": 1,
   "id": "93b9b26d",
   "metadata": {},
   "outputs": [],
   "source": [
    "from PIL import Image, ImageDraw    # Using Pillow (PIL) to create an image of the Mandelbrot set"
   ]
  },
  {
   "cell_type": "code",
   "execution_count": 2,
   "id": "6fd28b51",
   "metadata": {},
   "outputs": [],
   "source": [
    "# Boundary of the graph (-2 <= x <= 2, -2 <= y <= 2)\n",
    "x_min = -2\n",
    "y_min = -2\n",
    "x_max = 2\n",
    "y_max = 2\n",
    "\n",
    "# Number of iterations for the Mandelbrot sequence we will use\n",
    "iterations = 100 \n",
    "\n",
    "'''\n",
    "Each point on our graph will correspond to a pixel. For a NxN grid where N=100,\n",
    "that would correspond to an image of size 100 x 100 pixels. We will have to convert \n",
    "our x and y values into pixel values.\n",
    "To covert to pixels we dived the cordinate value by the number of pixels and multiply\n",
    "by the total length defined by the boundaries of the graph. \n",
    "We then have to offset the function by the minimum boundary to show every quadrent of the graph.\n",
    "'''\n",
    "\n",
    "def pixel_function(i, i_min, i_max, grid_size):\n",
    "    return (i / grid_size) * (i_max - i_min) + i_min\n"
   ]
  },
  {
   "cell_type": "code",
   "execution_count": 25,
   "id": "8048bd34",
   "metadata": {},
   "outputs": [],
   "source": [
    "'''\n",
    "We can define the function used to generate the mandelbrot sequence as Z_n = Z^2_(n-1) + c.\n",
    "When iterating the Mandlebrot sequence, it only has one breakout condition*, \n",
    "|z| > 2\n",
    "We will then use a while loop to iterate the sequence since we are iterating until there is a breakout \n",
    "condition (we then stop iterating). The while loop will return values of n, which we can then map to different colors.  \n",
    "* There is a second condition that says after 100 iterations to breakout which ends the normal mandelbrot sequence.  \n",
    "'''\n",
    "\n",
    "def mandelbrot_set(c):\n",
    "    z = 0       # Z_o is set at 0\n",
    "    n = 0       # At n = 0, Z_0 = Z^2_1 + c\n",
    "    while abs(z) <= 2 and n < iterations:   # If <= instead of < no image shows, not sure why.\n",
    "        z = z**2 + c    # Mandelbrot sequence\n",
    "        n += 1          # Step size of 1 (from 0-100)\n",
    "    return n            # If n > 2, the sequence breaks and returns a value for n. We do not care what this value \n",
    "                        # of n is, only that it is not equal to the number of iterations\n",
    "\n"
   ]
  },
  {
   "cell_type": "code",
   "execution_count": 26,
   "id": "79b56cfd",
   "metadata": {},
   "outputs": [],
   "source": [
    "'''\n",
    "In homework III we created an empty list for values of the total mulitplicity and appened values of the\n",
    "total multiplicty as we interated them. We can take a similar approach and create an empty image of the Mandelbrot \n",
    "set and 'appened' pixel values of the sequence as we calculate them.\n",
    "'''\n",
    "\n",
    "N = 100   # Pixel size \n",
    "# After ~ N = 1000 it takes a long time to run the code.\n",
    "# We also set different pixel values for the x and y axis if we wish eg.\n",
    "# N_x = 100\n",
    "# N_y = 200\n",
    "\n",
    "mandelbrot_image = Image.new('RGB',(N, N))    # Creates an empty image of N x N size. \n",
    "\n",
    "for x in range(N):           # First pick an x value\n",
    "    for y in range(N):       # Iterate every y value in for the given x value\n",
    "        # Define the complex constant c\n",
    "        c = complex(pixel_function(x, x_min, x_max, N), pixel_function(y, y_min, y_max, N))   # complex(x,y)=x+iy\n",
    "        mandelbrot_set(c)\n",
    "        # If the sequence breaks, the color will be white (not in the Mandelbrot set)\n",
    "        # If the sequence exits, the color will be black( in the Mandelbrot set)\n",
    "        if mandelbrot_set(c) == iterations:\n",
    "            color = 0       # color value for white for RGB(0, 0, 0)\n",
    "        else:\n",
    "            color = 255     # color value for black for RGB(255, 255, 255)\n",
    "        # We will then draw a point (pixel) for each n color value on our empty image.\n",
    "        draw = ImageDraw.Draw(mandelbrot_image)    \n",
    "        draw.point([x, y],(color, color, color))    # Draws the RGB value based on the color value of n (RGB(n, n, n))\n",
    "\n",
    "mandelbrot_image.show()    # Creates a png of the Mandelbrot set once the for loop is finished interating."
   ]
  },
  {
   "cell_type": "code",
   "execution_count": null,
   "id": "a4d6842e",
   "metadata": {},
   "outputs": [],
   "source": [
    "'''\n",
    "Our initial madnelbrot function returns a value of n between 0-100 depending on when or if |z|>2. We grouped \n",
    "every value of n that broke the sequence into the same group. If we wanted to, we could instead map a unique \n",
    "color id to each value of n to create a color gradient as seen in most online images of the Mandelbrot set. \n",
    "'''"
   ]
  }
 ],
 "metadata": {
  "kernelspec": {
   "display_name": "Python 3 (ipykernel)",
   "language": "python",
   "name": "python3"
  },
  "language_info": {
   "codemirror_mode": {
    "name": "ipython",
    "version": 3
   },
   "file_extension": ".py",
   "mimetype": "text/x-python",
   "name": "python",
   "nbconvert_exporter": "python",
   "pygments_lexer": "ipython3",
   "version": "3.10.6"
  }
 },
 "nbformat": 4,
 "nbformat_minor": 5
}
