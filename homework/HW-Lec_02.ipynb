{
 "cells": [
  {
   "cell_type": "code",
   "execution_count": null,
   "id": "ae3a3207",
   "metadata": {},
   "outputs": [],
   "source": [
    "'''\n",
    "Energy of an Einstein Solid\n",
    "James Taber\n",
    "PHYS 300\n",
    "'''"
   ]
  },
  {
   "cell_type": "code",
   "execution_count": null,
   "id": "35779894",
   "metadata": {},
   "outputs": [],
   "source": [
    "'''\n",
    "Part I: Proof\n",
    "'''\n",
    "\n",
    "'''\n",
    "Muliplicty in thermodynamics is given by the combination nCr. \n",
    "We can represent the units of energy q as \"*\" and the boundries between the states N as \"|\". \n",
    "For example, a distribution of q=4 units of energy in N=3 states we can represent this to be\n",
    "\n",
    "*|*|**\n",
    "\n",
    "We can represent this many different ways, but essentially we have q units of energy and N-1 state boundries. \n",
    "In total we have q + (N-1) symbols. The total number of ways we can move arond and distribute the q units of \n",
    "energy between the states can be found using the combination nCr given by\n",
    "\n",
    "nCr = n!/(n-r)!/r!\n",
    "\n",
    "where n = q + N -1, and r = q giving \n",
    "\n",
    "(q + N - 1)Cq = (q + N -1)!/(N-1)!/q!\n",
    "'''"
   ]
  },
  {
   "cell_type": "code",
   "execution_count": 2,
   "id": "a55e06f9",
   "metadata": {
    "scrolled": true
   },
   "outputs": [
    {
     "name": "stdout",
     "output_type": "stream",
     "text": [
      "Number of Oscillators (N): 3\n",
      "Total Energy (q): 2\n",
      "Multiplicity( 3 , 2 ) = 6.0\n"
     ]
    }
   ],
   "source": [
    "'''\n",
    "Part II: Code\n",
    "'''\n",
    "\n",
    "N = int(input(\"Number of Oscillators (N): \"))\n",
    "q = int(input(\"Total Energy (q): \"))\n",
    "\n",
    "\n",
    "def fact(x):\n",
    "    if x == 0 or x == 1:\n",
    "        return 1\n",
    "    else:\n",
    "        total = 1\n",
    "        for i in range(2, x + 1):\n",
    "            total *= i\n",
    "        return total\n",
    "\n",
    "\n",
    "# Defining the factorial function as fact(x)\n",
    "\n",
    "\n",
    "def Mult(N, q):\n",
    "    return fact(q + N - 1) / fact(q) / fact(N - 1)\n",
    "\n",
    "\n",
    "# Defining the multiplicity function whose variables are the user inputs N and q.\n",
    "\n",
    "print(\"Multiplicity(\", N, \",\", q, \") =\", Mult(N, q))\n"
   ]
  },
  {
   "cell_type": "code",
   "execution_count": null,
   "id": "5a9a9fad",
   "metadata": {},
   "outputs": [],
   "source": []
  }
 ],
 "metadata": {
  "kernelspec": {
   "display_name": "Python 3 (ipykernel)",
   "language": "python",
   "name": "python3"
  },
  "language_info": {
   "codemirror_mode": {
    "name": "ipython",
    "version": 3
   },
   "file_extension": ".py",
   "mimetype": "text/x-python",
   "name": "python",
   "nbconvert_exporter": "python",
   "pygments_lexer": "ipython3",
   "version": "3.10.6"
  }
 },
 "nbformat": 4,
 "nbformat_minor": 5
}
