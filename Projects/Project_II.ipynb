{
 "cells": [
  {
   "cell_type": "markdown",
   "id": "cc53e0a9",
   "metadata": {},
   "source": [
    "# Machine Learning - Random Forest\n",
    "\n",
    "### Goals: \n",
    "- Describe what the random forest is. \n",
    "- Test the random forest using the iris data for classification and regression. \n",
    "\n",
    "### What is the random forest? \n",
    "\n",
    "- The random forest is an ensemble method of classification and regression that generates multiple decision trees and picks the majority answer from those decision trees. \n",
    "- An easier way of thinking about the random forest is imagining you have an android phone and are considering switching to an iphone, so you call up a bunch of your friends and poll them. Some of your friends think iphones are better and some think androids are better. You poll their results and you find more people recommended to switch to an iphone so you make the switch.\n",
    "    \n",
    "### Why random forest?\n",
    "\n",
    "- Simply put, it is a straightforward method of generating reasonable predictions. "
   ]
  },
  {
   "cell_type": "code",
   "execution_count": 1,
   "id": "c5414dd4",
   "metadata": {},
   "outputs": [],
   "source": [
    "'''Random Forest Using Iris Data'''\n",
    "\n",
    "# Loads the iris data\n",
    "from sklearn.datasets import load_iris\n",
    "\n",
    "dataset = load_iris() \n",
    "X = dataset.data\n",
    "Y = dataset.target"
   ]
  },
  {
   "cell_type": "code",
   "execution_count": 2,
   "id": "a008b815",
   "metadata": {
    "scrolled": false
   },
   "outputs": [
    {
     "data": {
      "text/html": [
       "<div>\n",
       "<style scoped>\n",
       "    .dataframe tbody tr th:only-of-type {\n",
       "        vertical-align: middle;\n",
       "    }\n",
       "\n",
       "    .dataframe tbody tr th {\n",
       "        vertical-align: top;\n",
       "    }\n",
       "\n",
       "    .dataframe thead th {\n",
       "        text-align: right;\n",
       "    }\n",
       "</style>\n",
       "<table border=\"1\" class=\"dataframe\">\n",
       "  <thead>\n",
       "    <tr style=\"text-align: right;\">\n",
       "      <th></th>\n",
       "      <th>Sepal Length</th>\n",
       "      <th>Sepal Width</th>\n",
       "      <th>Petal Length</th>\n",
       "      <th>Petal Width</th>\n",
       "      <th>Label</th>\n",
       "    </tr>\n",
       "  </thead>\n",
       "  <tbody>\n",
       "    <tr>\n",
       "      <th>0</th>\n",
       "      <td>5.1</td>\n",
       "      <td>3.5</td>\n",
       "      <td>1.4</td>\n",
       "      <td>0.2</td>\n",
       "      <td>0</td>\n",
       "    </tr>\n",
       "    <tr>\n",
       "      <th>1</th>\n",
       "      <td>4.9</td>\n",
       "      <td>3.0</td>\n",
       "      <td>1.4</td>\n",
       "      <td>0.2</td>\n",
       "      <td>0</td>\n",
       "    </tr>\n",
       "    <tr>\n",
       "      <th>2</th>\n",
       "      <td>4.7</td>\n",
       "      <td>3.2</td>\n",
       "      <td>1.3</td>\n",
       "      <td>0.2</td>\n",
       "      <td>0</td>\n",
       "    </tr>\n",
       "    <tr>\n",
       "      <th>3</th>\n",
       "      <td>4.6</td>\n",
       "      <td>3.1</td>\n",
       "      <td>1.5</td>\n",
       "      <td>0.2</td>\n",
       "      <td>0</td>\n",
       "    </tr>\n",
       "    <tr>\n",
       "      <th>4</th>\n",
       "      <td>5.0</td>\n",
       "      <td>3.6</td>\n",
       "      <td>1.4</td>\n",
       "      <td>0.2</td>\n",
       "      <td>0</td>\n",
       "    </tr>\n",
       "    <tr>\n",
       "      <th>...</th>\n",
       "      <td>...</td>\n",
       "      <td>...</td>\n",
       "      <td>...</td>\n",
       "      <td>...</td>\n",
       "      <td>...</td>\n",
       "    </tr>\n",
       "    <tr>\n",
       "      <th>145</th>\n",
       "      <td>6.7</td>\n",
       "      <td>3.0</td>\n",
       "      <td>5.2</td>\n",
       "      <td>2.3</td>\n",
       "      <td>2</td>\n",
       "    </tr>\n",
       "    <tr>\n",
       "      <th>146</th>\n",
       "      <td>6.3</td>\n",
       "      <td>2.5</td>\n",
       "      <td>5.0</td>\n",
       "      <td>1.9</td>\n",
       "      <td>2</td>\n",
       "    </tr>\n",
       "    <tr>\n",
       "      <th>147</th>\n",
       "      <td>6.5</td>\n",
       "      <td>3.0</td>\n",
       "      <td>5.2</td>\n",
       "      <td>2.0</td>\n",
       "      <td>2</td>\n",
       "    </tr>\n",
       "    <tr>\n",
       "      <th>148</th>\n",
       "      <td>6.2</td>\n",
       "      <td>3.4</td>\n",
       "      <td>5.4</td>\n",
       "      <td>2.3</td>\n",
       "      <td>2</td>\n",
       "    </tr>\n",
       "    <tr>\n",
       "      <th>149</th>\n",
       "      <td>5.9</td>\n",
       "      <td>3.0</td>\n",
       "      <td>5.1</td>\n",
       "      <td>1.8</td>\n",
       "      <td>2</td>\n",
       "    </tr>\n",
       "  </tbody>\n",
       "</table>\n",
       "<p>150 rows × 5 columns</p>\n",
       "</div>"
      ],
      "text/plain": [
       "     Sepal Length   Sepal Width  Petal Length  Petal Width  Label\n",
       "0              5.1          3.5           1.4          0.2      0\n",
       "1              4.9          3.0           1.4          0.2      0\n",
       "2              4.7          3.2           1.3          0.2      0\n",
       "3              4.6          3.1           1.5          0.2      0\n",
       "4              5.0          3.6           1.4          0.2      0\n",
       "..             ...          ...           ...          ...    ...\n",
       "145            6.7          3.0           5.2          2.3      2\n",
       "146            6.3          2.5           5.0          1.9      2\n",
       "147            6.5          3.0           5.2          2.0      2\n",
       "148            6.2          3.4           5.4          2.3      2\n",
       "149            5.9          3.0           5.1          1.8      2\n",
       "\n",
       "[150 rows x 5 columns]"
      ]
     },
     "execution_count": 2,
     "metadata": {},
     "output_type": "execute_result"
    }
   ],
   "source": [
    "# Creating a table for the iris data\n",
    "\n",
    "from collections import OrderedDict\n",
    "import pandas as pd\n",
    "\n",
    "Iris_data = OrderedDict({'Sepal Length ': X[:,0],\n",
    "             'Sepal Width': X[:,1],\n",
    "             'Petal Length': X[:,2],\n",
    "             'Petal Width': X[:,3],\n",
    "             'Label': Y})\n",
    "\n",
    "df = pd.DataFrame(Iris_data)\n",
    "df"
   ]
  },
  {
   "cell_type": "code",
   "execution_count": 3,
   "id": "d93dae41",
   "metadata": {},
   "outputs": [],
   "source": [
    "# First we need to train our model\n",
    "from sklearn.model_selection import train_test_split\n",
    "Xd_train, Xd_test, Y_train, Y_test = train_test_split(X,Y)"
   ]
  },
  {
   "cell_type": "code",
   "execution_count": 4,
   "id": "17cf39b6",
   "metadata": {},
   "outputs": [
    {
     "data": {
      "text/plain": [
       "112"
      ]
     },
     "execution_count": 4,
     "metadata": {},
     "output_type": "execute_result"
    }
   ],
   "source": [
    "len(Xd_train)"
   ]
  },
  {
   "cell_type": "code",
   "execution_count": 5,
   "id": "8d4c21a1",
   "metadata": {},
   "outputs": [
    {
     "data": {
      "text/plain": [
       "38"
      ]
     },
     "execution_count": 5,
     "metadata": {},
     "output_type": "execute_result"
    }
   ],
   "source": [
    "len(Xd_test)"
   ]
  },
  {
   "cell_type": "code",
   "execution_count": 6,
   "id": "ab4dbaba",
   "metadata": {},
   "outputs": [
    {
     "data": {
      "text/plain": [
       "0.9473684210526315"
      ]
     },
     "execution_count": 6,
     "metadata": {},
     "output_type": "execute_result"
    }
   ],
   "source": [
    "# Classification Problem\n",
    "from sklearn.ensemble import RandomForestClassifier\n",
    "\n",
    "Cmodel = RandomForestClassifier()\n",
    "Cmodel.fit(Xd_train, Y_train)\n",
    "Cmodel.score(Xd_test,Y_test) # Out-of-bag error score"
   ]
  },
  {
   "cell_type": "code",
   "execution_count": 7,
   "id": "81fa3e26",
   "metadata": {},
   "outputs": [
    {
     "data": {
      "text/plain": [
       "Text(50.722222222222214, 0.5, 'Actual Iris type')"
      ]
     },
     "execution_count": 7,
     "metadata": {},
     "output_type": "execute_result"
    },
    {
     "data": {
      "image/png": "[encoded data removed]",
      "text/plain": [
       "<Figure size 640x480 with 2 Axes>"
      ]
     },
     "metadata": {},
     "output_type": "display_data"
    }
   ],
   "source": [
    "# We analyze the classification problem using a confusion matrix\n",
    "# A confuction matrix compares the predicted values from testing to the actual values from the data. \n",
    "from sklearn.metrics import confusion_matrix\n",
    "\n",
    "Y_predicted = Cmodel.predict(Xd_test)\n",
    "cm = confusion_matrix(Y_test, Y_predicted)\n",
    "\n",
    "# Plotting the confusion matrix\n",
    "import matplotlib.pyplot as plt\n",
    "import seaborn as sn # Heatmap plot\n",
    "\n",
    "sn.heatmap(cm, annot=True)\n",
    "plt.xlabel('Predicted Iris Type')\n",
    "plt.ylabel('Actual Iris type')"
   ]
  },
  {
   "cell_type": "code",
   "execution_count": 8,
   "id": "0ff26a4b",
   "metadata": {},
   "outputs": [
    {
     "data": {
      "text/plain": [
       "0.9376473526473527"
      ]
     },
     "execution_count": 8,
     "metadata": {},
     "output_type": "execute_result"
    }
   ],
   "source": [
    "# Regression Problem\n",
    "from sklearn.ensemble import RandomForestRegressor\n",
    "\n",
    "Rmodel = RandomForestRegressor()\n",
    "Rmodel.fit(Xd_train, Y_train)\n",
    "Rmodel.score(Xd_test,Y_test) # Out-of-bag error score"
   ]
  },
  {
   "cell_type": "code",
   "execution_count": 9,
   "id": "5f043f36",
   "metadata": {},
   "outputs": [
    {
     "name": "stdout",
     "output_type": "stream",
     "text": [
      "0.9403015984015984\n"
     ]
    }
   ],
   "source": [
    "# Analyzing using the explained variance score. \n",
    "# Measurement of regression similiar to R^2 in statistics\n",
    "from sklearn.metrics import explained_variance_score\n",
    "\n",
    "Y_predicted = Rmodel.predict(Xd_test)\n",
    "evs = explained_variance_score(Y_test, Y_predicted)\n",
    "print(evs)"
   ]
  }
 ],
 "metadata": {
  "kernelspec": {
   "display_name": "Python 3 (ipykernel)",
   "language": "python",
   "name": "python3"
  },
  "language_info": {
   "codemirror_mode": {
    "name": "ipython",
    "version": 3
   },
   "file_extension": ".py",
   "mimetype": "text/x-python",
   "name": "python",
   "nbconvert_exporter": "python",
   "pygments_lexer": "ipython3",
   "version": "3.9.12"
  }
 },
 "nbformat": 4,
 "nbformat_minor": 5
}
